{
 "cells": [
  {
   "cell_type": "code",
   "execution_count": 1,
   "metadata": {},
   "outputs": [],
   "source": [
    "import sys\n",
    "import numpy as np\n",
    "import pandas as pd\n",
    "from scipy import stats as st\n",
    "from matplotlib import pyplot as plt\n",
    "\n",
    "sys.path.append(\"..\")\n",
    "from src.census_data import ParisCensusData"
   ]
  },
  {
   "attachments": {},
   "cell_type": "markdown",
   "metadata": {},
   "source": [
    "# Paris"
   ]
  },
  {
   "cell_type": "code",
   "execution_count": 2,
   "metadata": {},
   "outputs": [
    {
     "name": "stderr",
     "output_type": "stream",
     "text": [
      "/workspaces/codespaces-jupyter/notebooks/../src/census_data.py:7: DtypeWarning: Columns (0,2,3,4,7) have mixed types. Specify dtype option on import or set low_memory=False.\n",
      "  self.familleDF = pd.read_csv(famille_path, encoding = \"utf-8\")\n",
      "/workspaces/codespaces-jupyter/notebooks/../src/census_data.py:8: DtypeWarning: Columns (0,2,3,4,7) have mixed types. Specify dtype option on import or set low_memory=False.\n",
      "  self.populationDF = pd.read_csv(population_path, encoding = \"utf-8\")\n"
     ]
    }
   ],
   "source": [
    "data_paris = ParisCensusData('../data/raw/famillie_2014.csv', '../data/raw/population_2014.csv', '../data/raw/revenue_2014.csv')\n",
    "data_paris.build()"
   ]
  },
  {
   "cell_type": "code",
   "execution_count": 3,
   "metadata": {},
   "outputs": [
    {
     "name": "stderr",
     "output_type": "stream",
     "text": [
      "/tmp/ipykernel_21749/2420397143.py:4: RuntimeWarning: invalid value encountered in divide\n",
      "  socialhousingDF['Social_Housing'] = np.float64(data_paris.familleDF['P14_RP_LOCHLMV']) / np.float64(data_paris.familleDF['P14_RP']) # np.float to avoid divisions by 0\n"
     ]
    },
    {
     "data": {
      "text/html": [
       "<div>\n",
       "<style scoped>\n",
       "    .dataframe tbody tr th:only-of-type {\n",
       "        vertical-align: middle;\n",
       "    }\n",
       "\n",
       "    .dataframe tbody tr th {\n",
       "        vertical-align: top;\n",
       "    }\n",
       "\n",
       "    .dataframe thead th {\n",
       "        text-align: right;\n",
       "    }\n",
       "</style>\n",
       "<table border=\"1\" class=\"dataframe\">\n",
       "  <thead>\n",
       "    <tr style=\"text-align: right;\">\n",
       "      <th></th>\n",
       "      <th>Social_Housing</th>\n",
       "    </tr>\n",
       "    <tr>\n",
       "      <th>IRIS</th>\n",
       "      <th></th>\n",
       "    </tr>\n",
       "  </thead>\n",
       "  <tbody>\n",
       "    <tr>\n",
       "      <th>751010101</th>\n",
       "      <td>0.290378</td>\n",
       "    </tr>\n",
       "    <tr>\n",
       "      <th>751010102</th>\n",
       "      <td>0.000000</td>\n",
       "    </tr>\n",
       "    <tr>\n",
       "      <th>751010103</th>\n",
       "      <td>0.045988</td>\n",
       "    </tr>\n",
       "    <tr>\n",
       "      <th>751010104</th>\n",
       "      <td>0.000000</td>\n",
       "    </tr>\n",
       "    <tr>\n",
       "      <th>751010105</th>\n",
       "      <td>0.000000</td>\n",
       "    </tr>\n",
       "  </tbody>\n",
       "</table>\n",
       "</div>"
      ],
      "text/plain": [
       "           Social_Housing\n",
       "IRIS                     \n",
       "751010101        0.290378\n",
       "751010102        0.000000\n",
       "751010103        0.045988\n",
       "751010104        0.000000\n",
       "751010105        0.000000"
      ]
     },
     "execution_count": 3,
     "metadata": {},
     "output_type": "execute_result"
    }
   ],
   "source": [
    "# Work with variable Social Housing\n",
    "socialhousingDF = pd.DataFrame(index = data_paris.familleDF.index)\n",
    "                                    # 14_RP -> total residencies  /   14_RP_LOCHLMV social cases \n",
    "socialhousingDF['Social_Housing'] = np.float64(data_paris.familleDF['P14_RP_LOCHLMV']) / np.float64(data_paris.familleDF['P14_RP']) # np.float to avoid divisions by 0\n",
    "socialhousingDF = socialhousingDF.fillna(0)\n",
    "socialhousingDF.head()"
   ]
  },
  {
   "cell_type": "code",
   "execution_count": 4,
   "metadata": {},
   "outputs": [],
   "source": [
    "# Export to excel social housing values and map\n",
    "socialhousingDF.to_csv('../data/processed/paris_social_housing.xls')"
   ]
  }
 ],
 "metadata": {
  "kernelspec": {
   "display_name": "Python 3",
   "language": "python",
   "name": "python3"
  },
  "language_info": {
   "codemirror_mode": {
    "name": "ipython",
    "version": 3
   },
   "file_extension": ".py",
   "mimetype": "text/x-python",
   "name": "python",
   "nbconvert_exporter": "python",
   "pygments_lexer": "ipython3",
   "version": "3.10.4 (main, Nov 29 2022, 20:00:25) [GCC 9.4.0]"
  },
  "orig_nbformat": 4,
  "vscode": {
   "interpreter": {
    "hash": "3ad933181bd8a04b432d3370b9dc3b0662ad032c4dfaa4e4f1596c548f763858"
   }
  }
 },
 "nbformat": 4,
 "nbformat_minor": 2
}
